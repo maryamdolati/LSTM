{
  "nbformat": 4,
  "nbformat_minor": 0,
  "metadata": {
    "colab": {
      "provenance": []
    },
    "kernelspec": {
      "name": "python3",
      "display_name": "Python 3"
    },
    "language_info": {
      "name": "python"
    }
  },
  "cells": [
    {
      "cell_type": "markdown",
      "source": [
        "This is a problem where, given a year and a month, the task is to predict the number of international airline passengers in units of 1,000. The data ranges from January 1949 to December 1960, or 12 years, with 144 observations."
      ],
      "metadata": {
        "id": "ruPTIsggqxiB"
      }
    },
    {
      "cell_type": "code",
      "source": [
        "from google.colab import drive\n",
        "drive.mount('/content/drive')"
      ],
      "metadata": {
        "id": "tUxR5rQKq4RT",
        "colab": {
          "base_uri": "https://localhost:8080/"
        },
        "outputId": "701a0396-a8dc-46e4-b5db-089738a14e75"
      },
      "execution_count": 27,
      "outputs": [
        {
          "output_type": "stream",
          "name": "stdout",
          "text": [
            "Drive already mounted at /content/drive; to attempt to forcibly remount, call drive.mount(\"/content/drive\", force_remount=True).\n"
          ]
        }
      ]
    },
    {
      "cell_type": "code",
      "source": [
        "import numpy as np\n",
        "import matplotlib.pyplot as plt\n",
        "import pandas as pd\n",
        "import tensorflow as tf\n",
        "from tensorflow.keras.models import Sequential\n",
        "from tensorflow.keras.layers import Dense\n",
        "from tensorflow.keras.layers import LSTM\n",
        "from sklearn.preprocessing import MinMaxScaler"
      ],
      "metadata": {
        "id": "y7IRBP9pteVd"
      },
      "execution_count": 28,
      "outputs": []
    },
    {
      "cell_type": "markdown",
      "source": [
        " fix the random number seed to ensure your results are reproducible."
      ],
      "metadata": {
        "id": "UWfF0z_hutYi"
      }
    },
    {
      "cell_type": "code",
      "source": [
        "# fix random seed for reproducibility\n",
        "tf.random.set_seed(7)"
      ],
      "metadata": {
        "id": "Mgp3FXrmumRM"
      },
      "execution_count": 29,
      "outputs": []
    },
    {
      "cell_type": "code",
      "source": [
        "# load the dataset\n",
        "dataframe = pd.read_csv('/content/drive/MyDrive/airline-passengers.csv', usecols=[1], engine='python')\n",
        "dataset = dataframe.values\n",
        "dataset = dataset.astype('float32')"
      ],
      "metadata": {
        "id": "b0oCwlF4uDfd"
      },
      "execution_count": 30,
      "outputs": []
    },
    {
      "cell_type": "code",
      "source": [
        "# normalize the dataset\n",
        "scaler = MinMaxScaler(feature_range=(0, 1))\n",
        "dataset = scaler.fit_transform(dataset)"
      ],
      "metadata": {
        "id": "5svmC09xvcmu"
      },
      "execution_count": 31,
      "outputs": []
    },
    {
      "cell_type": "code",
      "source": [
        "# split into train and test sets\n",
        "train_size = int(len(dataset) * 0.67)\n",
        "test_size = len(dataset) - train_size\n",
        "train, test = dataset[0:train_size,:], dataset[train_size:len(dataset),:]\n",
        "print(len(train), len(test))"
      ],
      "metadata": {
        "colab": {
          "base_uri": "https://localhost:8080/"
        },
        "id": "LJ2TcGWlvppZ",
        "outputId": "591f200c-f1a2-413e-98f3-6e72a56d2a78"
      },
      "execution_count": 32,
      "outputs": [
        {
          "output_type": "stream",
          "name": "stdout",
          "text": [
            "96 48\n"
          ]
        }
      ]
    },
    {
      "cell_type": "code",
      "source": [
        "def create_dataset(dataset, look_back=1):\n",
        "    dataX, dataY = [], []\n",
        "    for i in range(len(dataset)-look_back-1):\n",
        "        a = dataset[i:(i+look_back), 0]\n",
        "        dataX.append(a)\n",
        "        dataY.append(dataset[i + look_back, 0])\n",
        "    return np.array(dataX), np.array(dataY)\n"
      ],
      "metadata": {
        "id": "8U_8pojGvq3f"
      },
      "execution_count": 33,
      "outputs": []
    },
    {
      "cell_type": "code",
      "source": [
        "# reshape into X=t and Y=t+1\n",
        "look_back = 1\n",
        "trainX, trainY = create_dataset(train, look_back)\n",
        "testX, testY = create_dataset(test, look_back)"
      ],
      "metadata": {
        "id": "AH1TE4hOwlaM"
      },
      "execution_count": 34,
      "outputs": []
    },
    {
      "cell_type": "code",
      "source": [
        "# reshape input to be [samples, time steps, features]\n",
        "trainX = np.reshape(trainX, (trainX.shape[0], 1, trainX.shape[1]))\n",
        "testX = np.reshape(testX, (testX.shape[0], 1, testX.shape[1]))"
      ],
      "metadata": {
        "id": "lCeI43ulwos2"
      },
      "execution_count": 35,
      "outputs": []
    },
    {
      "cell_type": "code",
      "source": [
        "# create and fit the LSTM network\n",
        "model = Sequential()\n",
        "model.add(LSTM(4, input_shape=(1, look_back)))\n",
        "model.add(Dense(1))\n",
        "model.compile(loss='mean_squared_error', optimizer='adam')\n",
        "model.fit(trainX, trainY, epochs=30, batch_size=1, verbose=2)"
      ],
      "metadata": {
        "colab": {
          "base_uri": "https://localhost:8080/"
        },
        "id": "gszZxddiwsSZ",
        "outputId": "0d75f8d1-9321-4539-b080-619d9728cdad"
      },
      "execution_count": 36,
      "outputs": [
        {
          "output_type": "stream",
          "name": "stdout",
          "text": [
            "Epoch 1/30\n",
            "94/94 - 2s - loss: 0.0332 - 2s/epoch - 21ms/step\n",
            "Epoch 2/30\n",
            "94/94 - 0s - loss: 0.0143 - 178ms/epoch - 2ms/step\n",
            "Epoch 3/30\n",
            "94/94 - 0s - loss: 0.0109 - 179ms/epoch - 2ms/step\n",
            "Epoch 4/30\n",
            "94/94 - 0s - loss: 0.0098 - 178ms/epoch - 2ms/step\n",
            "Epoch 5/30\n",
            "94/94 - 0s - loss: 0.0089 - 195ms/epoch - 2ms/step\n",
            "Epoch 6/30\n",
            "94/94 - 0s - loss: 0.0078 - 323ms/epoch - 3ms/step\n",
            "Epoch 7/30\n",
            "94/94 - 0s - loss: 0.0070 - 358ms/epoch - 4ms/step\n",
            "Epoch 8/30\n",
            "94/94 - 0s - loss: 0.0062 - 317ms/epoch - 3ms/step\n",
            "Epoch 9/30\n",
            "94/94 - 1s - loss: 0.0056 - 523ms/epoch - 6ms/step\n",
            "Epoch 10/30\n",
            "94/94 - 0s - loss: 0.0049 - 493ms/epoch - 5ms/step\n",
            "Epoch 11/30\n",
            "94/94 - 1s - loss: 0.0043 - 580ms/epoch - 6ms/step\n",
            "Epoch 12/30\n",
            "94/94 - 0s - loss: 0.0038 - 466ms/epoch - 5ms/step\n",
            "Epoch 13/30\n",
            "94/94 - 0s - loss: 0.0034 - 449ms/epoch - 5ms/step\n",
            "Epoch 14/30\n",
            "94/94 - 1s - loss: 0.0031 - 589ms/epoch - 6ms/step\n",
            "Epoch 15/30\n",
            "94/94 - 1s - loss: 0.0028 - 669ms/epoch - 7ms/step\n",
            "Epoch 16/30\n",
            "94/94 - 0s - loss: 0.0026 - 484ms/epoch - 5ms/step\n",
            "Epoch 17/30\n",
            "94/94 - 0s - loss: 0.0024 - 416ms/epoch - 4ms/step\n",
            "Epoch 18/30\n",
            "94/94 - 1s - loss: 0.0023 - 502ms/epoch - 5ms/step\n",
            "Epoch 19/30\n",
            "94/94 - 1s - loss: 0.0023 - 669ms/epoch - 7ms/step\n",
            "Epoch 20/30\n",
            "94/94 - 1s - loss: 0.0022 - 623ms/epoch - 7ms/step\n",
            "Epoch 21/30\n",
            "94/94 - 1s - loss: 0.0021 - 623ms/epoch - 7ms/step\n",
            "Epoch 22/30\n",
            "94/94 - 0s - loss: 0.0021 - 477ms/epoch - 5ms/step\n",
            "Epoch 23/30\n",
            "94/94 - 1s - loss: 0.0021 - 517ms/epoch - 6ms/step\n",
            "Epoch 24/30\n",
            "94/94 - 0s - loss: 0.0020 - 462ms/epoch - 5ms/step\n",
            "Epoch 25/30\n",
            "94/94 - 0s - loss: 0.0021 - 412ms/epoch - 4ms/step\n",
            "Epoch 26/30\n",
            "94/94 - 0s - loss: 0.0021 - 282ms/epoch - 3ms/step\n",
            "Epoch 27/30\n",
            "94/94 - 0s - loss: 0.0021 - 395ms/epoch - 4ms/step\n",
            "Epoch 28/30\n",
            "94/94 - 0s - loss: 0.0020 - 306ms/epoch - 3ms/step\n",
            "Epoch 29/30\n",
            "94/94 - 0s - loss: 0.0021 - 320ms/epoch - 3ms/step\n",
            "Epoch 30/30\n",
            "94/94 - 0s - loss: 0.0021 - 278ms/epoch - 3ms/step\n"
          ]
        },
        {
          "output_type": "execute_result",
          "data": {
            "text/plain": [
              "<keras.src.callbacks.History at 0x78ae31347160>"
            ]
          },
          "metadata": {},
          "execution_count": 36
        }
      ]
    },
    {
      "cell_type": "code",
      "source": [
        "from sklearn.metrics import mean_squared_error\n",
        "# make predictions\n",
        "trainPredict = model.predict(trainX)\n",
        "testPredict = model.predict(testX)\n",
        "# invert predictions\n",
        "trainPredict = scaler.inverse_transform(trainPredict)\n",
        "trainY = scaler.inverse_transform([trainY])\n",
        "testPredict = scaler.inverse_transform(testPredict)\n",
        "testY = scaler.inverse_transform([testY])\n",
        "# calculate root mean squared error\n",
        "trainScore = np.sqrt(mean_squared_error(trainY[0], trainPredict[:,0]))\n",
        "print('Train Score: %.2f RMSE' % (trainScore))\n",
        "testScore = np.sqrt(mean_squared_error(testY[0], testPredict[:,0]))\n",
        "print('Test Score: %.2f RMSE' % (testScore))"
      ],
      "metadata": {
        "colab": {
          "base_uri": "https://localhost:8080/"
        },
        "id": "XvgQDcyaw4-g",
        "outputId": "079c89e9-6d94-43b3-d93c-d9c03ed9eb40"
      },
      "execution_count": 37,
      "outputs": [
        {
          "output_type": "stream",
          "name": "stdout",
          "text": [
            "3/3 [==============================] - 1s 11ms/step\n",
            "2/2 [==============================] - 0s 6ms/step\n",
            "Train Score: 23.43 RMSE\n",
            "Test Score: 48.89 RMSE\n"
          ]
        }
      ]
    },
    {
      "cell_type": "code",
      "source": [
        "print(\"trainPredict shape:\", trainPredict.shape)\n",
        "print(\"trainY shape:\", trainY.shape)\n",
        "print(\"testPredict shape:\", testPredict.shape)\n",
        "print(\"testY shape:\", testY.shape)\n"
      ],
      "metadata": {
        "colab": {
          "base_uri": "https://localhost:8080/"
        },
        "id": "qgqMOP6Z3Eze",
        "outputId": "813f04f4-23b0-4a95-f450-b45529db4eaf"
      },
      "execution_count": 46,
      "outputs": [
        {
          "output_type": "stream",
          "name": "stdout",
          "text": [
            "trainPredict shape: (94, 1)\n",
            "trainY shape: (1, 94)\n",
            "testPredict shape: (46, 1)\n",
            "testY shape: (1, 46)\n"
          ]
        }
      ]
    },
    {
      "cell_type": "code",
      "source": [
        "from sklearn.metrics import mean_squared_error\n",
        "\n",
        "# Transpose trainY and testY to match the shape of trainPredict and testPredict\n",
        "trainY = trainY.T\n",
        "testY = testY.T\n",
        "\n",
        "# Invert scaling for actual values\n",
        "trainY = scaler.inverse_transform(trainY)\n",
        "testY = scaler.inverse_transform(testY)\n",
        "\n",
        "# Check shapes again to confirm they match\n",
        "print(\"trainPredict shape:\", trainPredict.shape)\n",
        "print(\"trainY shape:\", trainY.shape)\n",
        "print(\"testPredict shape:\", testPredict.shape)\n",
        "print(\"testY shape:\", testY.shape)\n",
        "\n",
        "# calculate root mean squared error\n",
        "trainScore = np.sqrt(mean_squared_error(trainY, trainPredict))\n",
        "print('Train Score: %.2f RMSE' % (trainScore))\n",
        "testScore = np.sqrt(mean_squared_error(testY, testPredict))\n",
        "print('Test Score: %.2f RMSE' % (testScore))\n"
      ],
      "metadata": {
        "colab": {
          "base_uri": "https://localhost:8080/"
        },
        "id": "P-Le5rGX23g-",
        "outputId": "de3863d0-99b1-49e1-b6bc-57ca5ab90121"
      },
      "execution_count": 47,
      "outputs": [
        {
          "output_type": "stream",
          "name": "stdout",
          "text": [
            "trainPredict shape: (94, 1)\n",
            "trainY shape: (94, 1)\n",
            "testPredict shape: (46, 1)\n",
            "testY shape: (46, 1)\n",
            "Train Score: 8408042113707931.00 RMSE\n",
            "Test Score: 30431069007135.70 RMSE\n"
          ]
        }
      ]
    },
    {
      "cell_type": "code",
      "source": [
        "# shift train predictions for plotting\n",
        "trainPredictPlot = np.empty_like(dataset)\n",
        "trainPredictPlot[:, :] = np.nan\n",
        "trainPredictPlot[look_back:len(trainPredict)+look_back, :] = trainPredict\n",
        "# shift test predictions for plotting\n",
        "testPredictPlot = np.empty_like(dataset)\n",
        "testPredictPlot[:, :] = np.nan\n",
        "testPredictPlot[len(trainPredict)+(look_back*2)+1:len(dataset)-1, :] = testPredict\n",
        "# plot baseline and predictions\n",
        "plt.plot(scaler.inverse_transform(dataset))\n",
        "plt.plot(trainPredictPlot)\n",
        "plt.plot(testPredictPlot)\n",
        "plt.show()"
      ],
      "metadata": {
        "colab": {
          "base_uri": "https://localhost:8080/",
          "height": 430
        },
        "id": "vCCZWOyZ3lki",
        "outputId": "305e47bf-4aae-4bcd-aa00-2a23ce99e4f5"
      },
      "execution_count": 49,
      "outputs": [
        {
          "output_type": "display_data",
          "data": {
            "text/plain": [
              "<Figure size 640x480 with 1 Axes>"
            ],
            "image/png": "[encoded data removed]"
          },
          "metadata": {}
        }
      ]
    }
  ]
}